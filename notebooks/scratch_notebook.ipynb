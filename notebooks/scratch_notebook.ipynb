{
 "cells": [
  {
   "cell_type": "code",
   "execution_count": null,
   "id": "b4badf6e",
   "metadata": {},
   "outputs": [
    {
     "ename": "ModuleNotFoundError",
     "evalue": "No module named 'lxml'",
     "output_type": "error",
     "traceback": [
      "\u001b[31m---------------------------------------------------------------------------\u001b[39m",
      "\u001b[31mModuleNotFoundError\u001b[39m                       Traceback (most recent call last)",
      "\u001b[36mCell\u001b[39m\u001b[36m \u001b[39m\u001b[32mIn[41]\u001b[39m\u001b[32m, line 13\u001b[39m\n\u001b[32m     11\u001b[39m \u001b[38;5;28;01mimport\u001b[39;00m\u001b[38;5;250m \u001b[39m\u001b[34;01mduckdb\u001b[39;00m\n\u001b[32m     12\u001b[39m \u001b[38;5;28;01mimport\u001b[39;00m\u001b[38;5;250m \u001b[39m\u001b[34;01mdatetime\u001b[39;00m\n\u001b[32m---> \u001b[39m\u001b[32m13\u001b[39m \u001b[38;5;28;01mimport\u001b[39;00m\u001b[38;5;250m \u001b[39m\u001b[34;01mlxml\u001b[39;00m\n\u001b[32m     14\u001b[39m \u001b[38;5;28;01mfrom\u001b[39;00m\u001b[38;5;250m \u001b[39m\u001b[34;01mbs4\u001b[39;00m\u001b[38;5;250m \u001b[39m\u001b[38;5;28;01mimport\u001b[39;00m BeautifulSoup\n\u001b[32m     16\u001b[39m load_dotenv()\n",
      "\u001b[31mModuleNotFoundError\u001b[39m: No module named 'lxml'"
     ]
    }
   ],
   "source": [
    "import subprocess\n",
    "import os\n",
    "import argparse\n",
    "import pandas as pd\n",
    "import numpy as np\n",
    "import requests\n",
    "from sqlalchemy import create_engine\n",
    "from dotenv import load_dotenv\n",
    "import logging\n",
    "from sqlalchemy import text\n",
    "import duckdb\n",
    "import datetime\n",
    "from bs4 import BeautifulSoup\n",
    "\n",
    "load_dotenv()\n",
    "DATABASE_URL = f\"postgresql://{os.getenv('DB_USER')}:{os.getenv('DB_PASSWORD')}@{os.getenv('DB_HOST')}:{os.getenv('DB_PORT')}/{os.getenv('DB_NAME')}\"\n",
    "engine = create_engine(DATABASE_URL)"
   ]
  },
  {
   "cell_type": "code",
   "execution_count": 2,
   "id": "117453ae",
   "metadata": {},
   "outputs": [],
   "source": [
    "engine \n",
    "start_year=2024 \n",
    "end_year=2024 \n",
    "parquet_folder = 'data/raw/nflfastr/'"
   ]
  },
  {
   "cell_type": "code",
   "execution_count": 3,
   "id": "dd0fc76f",
   "metadata": {},
   "outputs": [],
   "source": [
    "weekly_df = pd.read_sql(\"SELECT * FROM weekly_stats\", engine)\n",
    "players_df = pd.read_sql(\"SELECT * FROM players\", engine)\n",
    "teams_df = pd.read_sql('SELECT * FROM teams', engine)\n",
    "games_df = pd.read_sql('SELECT * FROM games', engine)\n",
    "depth_df = pd.read_sql('SELECT * FROM depth_chart', engine)\n",
    "injuries_df = pd.read_sql('SELECT * FROM injuries', engine)\n",
    "schedule_df = pd.read_sql(\"SELECT season, week, stadium, game_date FROM games\", engine)\n",
    "base_features_df = pd.read_sql(\"SELECT * FROM player_weekly_features\", engine)"
   ]
  },
  {
   "cell_type": "code",
   "execution_count": 44,
   "id": "97250924",
   "metadata": {},
   "outputs": [
    {
     "name": "stderr",
     "output_type": "stream",
     "text": [
      "/var/folders/w3/190dcng90jb_w86_k9pqrdqh0000gn/T/ipykernel_61709/4227967626.py:8: FutureWarning: Passing literal html to 'read_html' is deprecated and will be removed in a future version. To read from a literal string, wrap it in a 'StringIO' object.\n",
      "  df = pd.read_html(str(table))[0]\n"
     ]
    }
   ],
   "source": [
    "season = 2023\n",
    "\n",
    "url = \"https://www.sharpfootballanalysis.com/analysis/best-nfl-front-seven-rankings/\"\n",
    "resp = requests.get(url)\n",
    "resp.raise_for_status()\n",
    "soup = BeautifulSoup(resp.text, \"html.parser\")\n",
    "table = soup.find(\"table\")\n",
    "df = pd.read_html(str(table))[0]\n",
    "# df = df.rename(columns={'Team': 'abbreviation', 'Score': 'front_seven_score'})\n",
    "# df['season'] = int(season)\n",
    "# df['secondary_score'] = None  # if no secondary ranking available\n",
    "# df['source'] = 'SharpFootball'\n",
    "# teams_df = pd.read_sql('SELECT team_id, abbreviation FROM teams', engine)\n",
    "# merged = df.merge(teams_df, how='left', on='abbreviation').dropna(subset=['team_id'])\n",
    "# final = merged[['season', 'team_id', 'front_seven_score', 'secondary_score', 'source']]"
   ]
  },
  {
   "cell_type": "code",
   "execution_count": 45,
   "id": "4339552c",
   "metadata": {},
   "outputs": [
    {
     "data": {
      "text/html": [
       "<div>\n",
       "<style scoped>\n",
       "    .dataframe tbody tr th:only-of-type {\n",
       "        vertical-align: middle;\n",
       "    }\n",
       "\n",
       "    .dataframe tbody tr th {\n",
       "        vertical-align: top;\n",
       "    }\n",
       "\n",
       "    .dataframe thead th {\n",
       "        text-align: right;\n",
       "    }\n",
       "</style>\n",
       "<table border=\"1\" class=\"dataframe\">\n",
       "  <thead>\n",
       "    <tr style=\"text-align: right;\">\n",
       "      <th></th>\n",
       "      <th>Sharp Football Analysis Positional Rankings</th>\n",
       "    </tr>\n",
       "  </thead>\n",
       "  <tbody>\n",
       "    <tr>\n",
       "      <th>0</th>\n",
       "      <td>Quarterbacks</td>\n",
       "    </tr>\n",
       "    <tr>\n",
       "      <th>1</th>\n",
       "      <td>Wide Receiver &amp; Tight Ends</td>\n",
       "    </tr>\n",
       "    <tr>\n",
       "      <th>2</th>\n",
       "      <td>Running Backs</td>\n",
       "    </tr>\n",
       "    <tr>\n",
       "      <th>3</th>\n",
       "      <td>Offensive Line</td>\n",
       "    </tr>\n",
       "    <tr>\n",
       "      <th>4</th>\n",
       "      <td>Front Seven</td>\n",
       "    </tr>\n",
       "    <tr>\n",
       "      <th>5</th>\n",
       "      <td>Secondary</td>\n",
       "    </tr>\n",
       "    <tr>\n",
       "      <th>6</th>\n",
       "      <td>Head Coach</td>\n",
       "    </tr>\n",
       "  </tbody>\n",
       "</table>\n",
       "</div>"
      ],
      "text/plain": [
       "  Sharp Football Analysis Positional Rankings\n",
       "0                                Quarterbacks\n",
       "1                  Wide Receiver & Tight Ends\n",
       "2                               Running Backs\n",
       "3                              Offensive Line\n",
       "4                                 Front Seven\n",
       "5                                   Secondary\n",
       "6                                  Head Coach"
      ]
     },
     "execution_count": 45,
     "metadata": {},
     "output_type": "execute_result"
    }
   ],
   "source": [
    "df"
   ]
  },
  {
   "cell_type": "code",
   "execution_count": null,
   "id": "ebdde801",
   "metadata": {},
   "outputs": [],
   "source": []
  }
 ],
 "metadata": {
  "kernelspec": {
   "display_name": "venv",
   "language": "python",
   "name": "python3"
  },
  "language_info": {
   "codemirror_mode": {
    "name": "ipython",
    "version": 3
   },
   "file_extension": ".py",
   "mimetype": "text/x-python",
   "name": "python",
   "nbconvert_exporter": "python",
   "pygments_lexer": "ipython3",
   "version": "3.12.3"
  }
 },
 "nbformat": 4,
 "nbformat_minor": 5
}
